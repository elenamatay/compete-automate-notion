{
 "cells": [
  {
   "cell_type": "markdown",
   "metadata": {},
   "source": [
    "# Competitors Research for Product Strategy"
   ]
  },
  {
   "cell_type": "markdown",
   "metadata": {},
   "source": [
    "# Step 0 - Setup"
   ]
  },
  {
   "cell_type": "markdown",
   "metadata": {},
   "source": [
    "1. (Assuming local execution) Start by authenticating with [ADC](https://cloud.google.com/docs/authentication/set-up-adc-local-dev-environment). As we'll later interact with the Slides via API, it's not enough with the default ADC command. Instead, we'll need to run `gcloud auth application-default login --scopes=openid,https://www.googleapis.com/auth/userinfo.email,https://www.googleapis.com/auth/cloud-platform,https://www.googleapis.com/auth/drive,https://www.googleapis.com/auth/presentations` (notice the `scopes` parameter).\n",
    "\n",
    "2. You'll also need to enable the Drive API [here](https://pantheon.corp.google.com/apis/library/drive.googleapis.com) and the Slides API [here](https://pantheon.corp.google.com/apis/library/slides.googleapis.com).\n",
    "\n",
    "3. Indicate your LDAP, will be later used to populate the slides:"
   ]
  },
  {
   "cell_type": "code",
   "execution_count": 5,
   "metadata": {},
   "outputs": [],
   "source": [
    "AUTHOR_LDAP = '@elenamatay' # @param"
   ]
  },
  {
   "cell_type": "markdown",
   "metadata": {},
   "source": [
    "4. Some imports:"
   ]
  },
  {
   "cell_type": "code",
   "execution_count": 6,
   "metadata": {},
   "outputs": [],
   "source": [
    "import sys, os\n",
    "from utils import *\n",
    "\n",
    "# Add the root directory to the Python path\n",
    "sys.path.append(os.path.abspath(os.path.join('..')))"
   ]
  },
  {
   "cell_type": "markdown",
   "metadata": {},
   "source": [
    "## Step 1 - Generate Battlecards Taxonomy and Prompt for Compete Research\n",
    "\n",
    "For creating the taxonomy that will be used for the competitors research and battlecards generation, you should indicate the domain topic (which subject area you're comparing with different competitors), and the research goal and output. Added an example below, you need to adapt it to your use case!"
   ]
  },
  {
   "cell_type": "code",
   "execution_count": null,
   "metadata": {},
   "outputs": [],
   "source": [
    "TOPIC_DOMAIN = \"\"\"Cloud platforms offering integrated solutions for data management (analytics, storage, processing, governance) \n",
    "and artificial intelligence / machine learning (development, training, deployment, MLOps).\"\"\""
   ]
  },
  {
   "cell_type": "code",
   "execution_count": 10,
   "metadata": {},
   "outputs": [],
   "source": [
    "TOPIC_DOMAIN = \"To be added\" # @param\n",
    "RESEARCH_GOAL_AND_OUTPUT = \"To be added\" # @param"
   ]
  },
  {
   "cell_type": "code",
   "execution_count": null,
   "metadata": {},
   "outputs": [
    {
     "name": "stdout",
     "output_type": "stream",
     "text": [
      "Taxonomy generated!\n"
     ]
    }
   ],
   "source": [
    "await generate_taxonomy(TOPIC_DOMAIN)"
   ]
  },
  {
   "cell_type": "markdown",
   "metadata": {},
   "source": [
    "Now you need to take the `research_prompt.txt` file and paste it one by one for Gemini research. Once you have the output reports from Gemini research, you should paste them into a new `output_battlecards` folder."
   ]
  },
  {
   "cell_type": "markdown",
   "metadata": {},
   "source": [
    "## Step 2 - Research and generate Battlecards Asynchronously\n",
    "\n",
    "**Note:** Before being able to create battlecards for each of your competitors, you should upload one research file for each competitor to a `company_reports` folder in the same directory than this notebook. This research file should be the output of a [Gemini](https://gemini.google.com/) Deep Reserch job with the prompt generated in Step 1. Make sure you have this folder filled with all competitors reports. Each competitor report should be in `.docx` format and with the competitor name as a file name (aka file name should be the same as COMPETITOR name in the below list)."
   ]
  },
  {
   "cell_type": "code",
   "execution_count": null,
   "metadata": {},
   "outputs": [],
   "source": [
    "COMPETITORS = [\"AWS\", \"Azure\", \"Databricks\", \"Snowflake\", \"NVIDIA\"] # @param: COMPETITORS. Should have the exact same names as in report files.\n",
    "OUTPUT_FOLDER = \"output_battlecards\" # @param - Folder where JSON fulfilled taxonomies will be saved"
   ]
  },
  {
   "cell_type": "code",
   "execution_count": null,
   "metadata": {},
   "outputs": [],
   "source": [
    "await research_competitors_async(COMPETITORS, OUTPUT_FOLDER)"
   ]
  },
  {
   "cell_type": "markdown",
   "metadata": {},
   "source": [
    "## 3 - Populate Google Slides with Generated battlecards\n",
    "\n",
    "You should create some template slides for your battlecards. The placeholders names should be exactly the same as the fields in your JSON output battlecards. As an example, this is the [template that was used for Data & AI battlecards](https://docs.google.com/presentation/d/1Py5ptC7tqy5ame1cJuJhAcRMz--NgWZ4suUrce6w9ns/edit?usp=sharing&resourcekey=0-iEJXzWShTtrzUNmJICbbNw). However, this template cannot be used as-is, as it's made for a particular taxonomy (Data & AI) that might differ from yours."
   ]
  },
  {
   "cell_type": "code",
   "execution_count": 8,
   "metadata": {},
   "outputs": [],
   "source": [
    "TEMPLATE_PRESENTATION_ID = '1Py5ptC7tqy5ame1cJuJhAcRMz--NgWZ4suUrce6w9ns' # @param: ID from the template slide you want to use for the battlecards\n",
    "NEW_PRESENTATION_NAME = 'Data & AI Compete - Battlecards' # @param (optional): New presentation file name"
   ]
  },
  {
   "cell_type": "markdown",
   "metadata": {},
   "source": [
    "Run code to update slides:"
   ]
  },
  {
   "cell_type": "code",
   "execution_count": null,
   "metadata": {},
   "outputs": [],
   "source": [
    "update_presentations_from_battlecards_folder(OUTPUT_FOLDER, TEMPLATE_PRESENTATION_ID, AUTHOR_LDAP)"
   ]
  },
  {
   "cell_type": "code",
   "execution_count": null,
   "metadata": {},
   "outputs": [],
   "source": [
    "create_merged_battlecard_presentation('test_output_battlecards', TEMPLATE_PRESENTATION_ID, AUTHOR_LDAP, NEW_PRESENTATION_NAME)"
   ]
  }
 ],
 "metadata": {
  "kernelspec": {
   "display_name": "compete_research",
   "language": "python",
   "name": "python3"
  },
  "language_info": {
   "codemirror_mode": {
    "name": "ipython",
    "version": 3
   },
   "file_extension": ".py",
   "mimetype": "text/x-python",
   "name": "python",
   "nbconvert_exporter": "python",
   "pygments_lexer": "ipython3",
   "version": "3.12.9"
  }
 },
 "nbformat": 4,
 "nbformat_minor": 2
}
