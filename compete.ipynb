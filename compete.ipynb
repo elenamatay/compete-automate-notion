{
 "cells": [
  {
   "cell_type": "markdown",
   "metadata": {},
   "source": [
    "# Competitor Research & Notion Database Population\n",
    "\n",
    "## Step 0: Setup\n",
    "\n",
    "1.  **Notion Integration Token:** Create a Notion integration and get your internal integration token. See [Notion's Guide](https://developers.notion.com/docs/create-a-notion-integration). Grant the integration access to the parent page where the database will be created.\n",
    "2.  **Parent Page ID:** In Notion, create or choose an existing page where you want the new Competitor Database to be created. Get its ID. You can get the page ID from its URL (the last part -32 characters- of the URL, e.g., for `https://www.notion.so/My-Page-abcdef1234567890abcdef1234567890`, the ID is `abcdef1234567890abcdef1234567890`). Make sure this page is shared with your integration.\n",
    "3.  **Install requirements:** Ensure you have `requirements.txt` installed (`pip install -r requirements.txt`). It should include `google-cloud-aiplatform`, `google-generativeai`, and `notion-client`.\n",
    "4. **Login into Google Cloud** with ADC: Run `gcloud auth application-default login`"
   ]
  },
  {
   "cell_type": "code",
   "execution_count": 20,
   "metadata": {},
   "outputs": [],
   "source": [
    "# General Imports\n",
    "import asyncio\n",
    "import os\n",
    "import json\n",
    "from pandas import *\n",
    "from dotenv import load_dotenv\n",
    "\n",
    "# Load environment variables from .env file\n",
    "load_dotenv('.env')\n",
    "\n",
    "# Import Vertex AI SDK\n",
    "import vertexai.generative_models as generative_models\n",
    "from vertexai.generative_models import Tool, GenerationConfig\n",
    "\n",
    "# Import utility functions (ensure utils.py is in the same directory or accessible in PYTHONPATH)\n",
    "from utils import *\n",
    "from notion_client import Client as NotionSyncClient # For DB creation"
   ]
  },
  {
   "cell_type": "code",
   "execution_count": 11,
   "metadata": {},
   "outputs": [
    {
     "name": "stdout",
     "output_type": "stream",
     "text": [
      "Output folder for JSON: /Users/elenamatay/Cursor Projects/compete-automate-notion-brainster/competitor_research_json\n",
      "Schema fields to be used: 53 fields including 'Competitor Name' and 'Notes_QualitativeInsights'\n",
      "\n",
      "Environment Variables Check:\n",
      "NOTION_API_TOKEN: Set\n",
      "NOTION_PARENT_PAGE_ID: Set\n",
      "COMPANY_CONTEXT: Set\n"
     ]
    }
   ],
   "source": [
    "# --- Config parameters ---\n",
    "NOTION_API_TOKEN = os.getenv(\"NOTION_API_TOKEN\")  # @param {type:string} TODO: Fill in your Notion Integration Token (e.g., secret_xxxxxxxxxxx)\n",
    "NOTION_PARENT_PAGE_ID = os.getenv(\"NOTION_PARENT_PAGE_ID\")  # @param {type:string} TODO: Fill in the ID of the Notion page to host the database (e.g., abcdef1234567890abcdef1234567890)\n",
    "NOTION_DATABASE_ID = os.getenv(\"NOTION_DATABASE_ID\")  # @param {type:string} TODO: Fill in the ID of the Notion Database (e.g., xxxxxxxx-xxxx-xxxx-xxxx-xxxxxxxxxxxx)\n",
    "\n",
    "# Defaults from env with config.json fallback\n",
    "NOTION_DATABASE_NAME = os.getenv(\"NOTION_DATABASE_NAME\", \"\")\n",
    "\n",
    "COMPETITORS = read_csv(\"competitors.csv\")[\"Competitor\"].tolist()  # @param {type:raw} List of competitor names to research\n",
    "\n",
    "OUTPUT_FOLDER = os.getenv(\"OUTPUT_FOLDER\", \"\")\n",
    "\n",
    "# Load non-sensitive defaults from config.json (initial_research) if not set in env\n",
    "try:\n",
    "    with open('config.json', 'r') as f:\n",
    "        cfg = json.load(f)\n",
    "        initial = cfg.get('initial_research', {})\n",
    "        if not NOTION_DATABASE_NAME:\n",
    "            NOTION_DATABASE_NAME = initial.get('notion_database_name', 'Compete Analysis DB')\n",
    "        if not OUTPUT_FOLDER:\n",
    "            OUTPUT_FOLDER = initial.get('output_folder', 'competitor_research_json')\n",
    "except Exception:\n",
    "    if not NOTION_DATABASE_NAME:\n",
    "        NOTION_DATABASE_NAME = 'Compete Analysis DB'\n",
    "    if not OUTPUT_FOLDER:\n",
    "        OUTPUT_FOLDER = 'competitor_research_json'\n",
    "\n",
    "COMPANY_CONTEXT = os.getenv(\"COMPANY_CONTEXT\", \"\")\n",
    "if not COMPANY_CONTEXT:\n",
    "    try:\n",
    "        with open('config.json', 'r') as f:\n",
    "            cfg = json.load(f)\n",
    "            context = cfg.get('initial_research', {}).get('company_context', '')\n",
    "            if isinstance(context, list):\n",
    "                COMPANY_CONTEXT = '\\n'.join(context)\n",
    "            else:\n",
    "                COMPANY_CONTEXT = context.strip()\n",
    "    except Exception:\n",
    "        COMPANY_CONTEXT = \"\"\n",
    "if not COMPANY_CONTEXT:\n",
    "    raise ValueError(\"COMPANY_CONTEXT is not set in env or config.json.\")\n",
    "\n",
    "# Ensure output folder exists\n",
    "os.makedirs(OUTPUT_FOLDER, exist_ok=True)\n",
    "\n",
    "print(f\"Output folder for JSON: {os.path.abspath(OUTPUT_FOLDER)}\")\n",
    "print(f\"Schema fields to be used: {len(CSV_SCHEMA)} fields including '{CSV_SCHEMA[0]}' and '{CSV_SCHEMA[-1]}'\")\n",
    "\n",
    "# Verify critical environment variables\n",
    "print(\"\\nEnvironment Variables Check:\")\n",
    "print(f\"NOTION_API_TOKEN: {'Set' if NOTION_API_TOKEN else 'Not Set'}\")\n",
    "print(f\"NOTION_PARENT_PAGE_ID: {'Set' if NOTION_PARENT_PAGE_ID else 'Not Set'}\")\n",
    "print(f\"COMPANY_CONTEXT: {'Set' if COMPANY_CONTEXT else 'Not Set'}\")"
   ]
  },
  {
   "cell_type": "markdown",
   "metadata": {},
   "source": [
    "## Step 1: Research Competitors (Async)\n",
    "\n",
    "This step will use Gemini 1.5 Pro to research each competitor based on the `CSV_SCHEMA` defined in `utils.py`. The results for each competitor will be saved as a JSON file in the `OUTPUT_FOLDER`."
   ]
  },
  {
   "cell_type": "code",
   "execution_count": 3,
   "metadata": {},
   "outputs": [
    {
     "name": "stdout",
     "output_type": "stream",
     "text": [
      "Starting research for 4 competitors: ['AppFolio', 'Arteco Fincas', 'Avail', 'Buildium']\n",
      "[11:41:03] Queueing research for: AppFolio\n",
      "[11:41:03] Queueing research for: Arteco Fincas\n",
      "[11:41:03] Queueing research for: Avail\n",
      "[11:41:03] Queueing research for: Buildium\n"
     ]
    },
    {
     "name": "stderr",
     "output_type": "stream",
     "text": [
      "/Users/elenamatay/Cursor Projects/compete-automate-notion-brainster/compete-automate-venv/lib/python3.12/site-packages/vertexai/generative_models/_generative_models.py:433: UserWarning: This feature is deprecated as of June 24, 2025 and will be removed on June 24, 2026. For details, see https://cloud.google.com/vertex-ai/generative-ai/docs/deprecations/genai-vertexai-sdk.\n",
      "  warning_logs.show_deprecation_warning()\n",
      "WARNING:root:REST async clients requires async credentials set using aiplatform.initializer._set_async_rest_credentials().\n",
      "Falling back to grpc since no async rest credentials were detected.\n",
      "/Users/elenamatay/Cursor Projects/compete-automate-notion-brainster/compete-automate-venv/lib/python3.12/site-packages/vertexai/generative_models/_generative_models.py:433: UserWarning: This feature is deprecated as of June 24, 2025 and will be removed on June 24, 2026. For details, see https://cloud.google.com/vertex-ai/generative-ai/docs/deprecations/genai-vertexai-sdk.\n",
      "  warning_logs.show_deprecation_warning()\n",
      "WARNING:root:REST async clients requires async credentials set using aiplatform.initializer._set_async_rest_credentials().\n",
      "Falling back to grpc since no async rest credentials were detected.\n",
      "WARNING:root:REST async clients requires async credentials set using aiplatform.initializer._set_async_rest_credentials().\n",
      "Falling back to grpc since no async rest credentials were detected.\n",
      "WARNING:root:REST async clients requires async credentials set using aiplatform.initializer._set_async_rest_credentials().\n",
      "Falling back to grpc since no async rest credentials were detected.\n"
     ]
    },
    {
     "name": "stdout",
     "output_type": "stream",
     "text": [
      "[11:41:03] Attempt 1 to research AppFolio...\n",
      "[11:41:03] Attempt 1 to research Arteco Fincas...\n",
      "[11:41:03] Attempt 1 to research Avail...\n",
      "[11:41:03] Attempt 1 to research Buildium...\n",
      "[11:41:51] Successfully researched and saved data for Arteco Fincas to competitor_research_json/Arteco_Fincas.json\n",
      "[11:41:58] Successfully researched and saved data for Avail to competitor_research_json/Avail.json\n",
      "[11:42:00] Successfully researched and saved data for AppFolio to competitor_research_json/AppFolio.json\n",
      "[11:42:08] Successfully researched and saved data for Buildium to competitor_research_json/Buildium.json\n",
      "Finished researching all competitors. 4 successful out of 4.\n",
      "\n",
      "Research complete. 4 JSON files created in competitor_research_json:\n",
      " - competitor_research_json/AppFolio.json\n",
      " - competitor_research_json/Arteco_Fincas.json\n",
      " - competitor_research_json/Avail.json\n",
      " - competitor_research_json/Buildium.json\n"
     ]
    }
   ],
   "source": [
    "# Configure the search tool using Vertex AI\n",
    "search_tool = Tool.from_dict({\n",
    "    \"google_search\": {}\n",
    "})\n",
    "\n",
    "# Use Vertex AI's GenerationConfig\n",
    "config = GenerationConfig(\n",
    "    temperature=0.1,\n",
    "    top_p=1.0\n",
    ")\n",
    "\n",
    "request_args = {\n",
    "    \"generation_config\": config,\n",
    "    \"tools\": [search_tool],\n",
    "    \"stream\": False\n",
    "}\n",
    "\n",
    "async def main_research():\n",
    "    if not COMPETITORS:\n",
    "        print(\"No competitors listed. Please add competitors to the COMPETITORS list.\")\n",
    "        return\n",
    "    \n",
    "    print(f\"Starting research for {len(COMPETITORS)} competitors: {COMPETITORS}\")\n",
    "    successful_json_files = await research_competitors_async(\n",
    "        competitors_list=COMPETITORS,\n",
    "        output_folder_path=OUTPUT_FOLDER,\n",
    "        company_context=COMPANY_CONTEXT,\n",
    "        request_args=request_args  # Pass the configured request args\n",
    "    )\n",
    "    print(f\"\\nResearch complete. {len(successful_json_files)} JSON files created in {OUTPUT_FOLDER}:\")\n",
    "    for f_path in successful_json_files:\n",
    "        print(f\" - {f_path}\")\n",
    "\n",
    "await main_research()"
   ]
  },
  {
   "cell_type": "markdown",
   "metadata": {},
   "source": [
    "## Step 2: Create or Verify Notion Database\n",
    "\n",
    "This step will create a new database in your Notion workspace under the specified `NOTION_PARENT_PAGE_ID` if `NOTION_DATABASE_ID` is not already provided. The database columns will match the `CSV_SCHEMA`. \n",
    "If `NOTION_DATABASE_ID` is provided, this step will simply confirm its use."
   ]
  },
  {
   "cell_type": "code",
   "execution_count": 3,
   "metadata": {},
   "outputs": [],
   "source": [
    "NOTION_DATABASE_ID = \"\""
   ]
  },
  {
   "cell_type": "code",
   "execution_count": 3,
   "metadata": {},
   "outputs": [
    {
     "name": "stdout",
     "output_type": "stream",
     "text": [
      "Attempting to create Notion Database titled 'Compete Analysis DB' under parent page ID: 278ffe52f86180f18cf0dce58835ead1\n",
      "Creating Notion database 'Compete Analysis DB' under page ID 278ffe52f86180f18cf0dce58835ead1...\n",
      "Successfully set property order for database 278ffe52-f861-8147-b069-e117f3ce4b7d\n",
      "Successfully created Notion database with ID: 278ffe52-f861-8147-b069-e117f3ce4b7d\n",
      "Link: https://www.notion.so/278ffe52f8618147b069e117f3ce4b7d\n",
      "Successfully created Notion Database. New ID: 278ffe52-f861-8147-b069-e117f3ce4b7d\n",
      "Link: https://www.notion.so/278ffe52f8618147b069e117f3ce4b7d\n",
      "\n",
      "Final Notion Database ID to be used for population: \n"
     ]
    }
   ],
   "source": [
    "# Step 2: Create or verify Notion database\n",
    "new_db_id = await setup_notion_database(\n",
    "    notion_token=NOTION_API_TOKEN,\n",
    "    parent_page_id=NOTION_PARENT_PAGE_ID,\n",
    "    database_name=NOTION_DATABASE_NAME,\n",
    "    database_id=NOTION_DATABASE_ID\n",
    ")\n",
    "\n",
    "print(f\"\\nFinal Notion Database ID to be used for population: {NOTION_DATABASE_ID}\")"
   ]
  },
  {
   "cell_type": "markdown",
   "metadata": {},
   "source": [
    "## Step 3: Populate Notion Database\n",
    "\n",
    "This step will take the JSON files from the `OUTPUT_FOLDER` and populate the Notion database specified by `NOTION_DATABASE_ID`."
   ]
  },
  {
   "cell_type": "code",
   "execution_count": 12,
   "metadata": {},
   "outputs": [
    {
     "name": "stdout",
     "output_type": "stream",
     "text": [
      "Populating Notion database ID: 278ffe52-f861-8147-b069-e117f3ce4b7d from folder: competitor_research_json\n",
      "Competitor 'Arteco Fincas' already exists (ID: 278ffe52-f861-8136-b7af-f6b793574b0c). Updating.\n",
      "Competitor 'Buildium' already exists (ID: 278ffe52-f861-8119-b335-d23eb2d8cda3). Updating.\n",
      "Successfully updated 'Buildium' in Notion.\n",
      "Successfully updated 'Arteco Fincas' in Notion.\n",
      "Competitor 'Avail' already exists (ID: 278ffe52-f861-81a5-aeff-c7a40a320007). Updating.\n",
      "Successfully updated 'Avail' in Notion.\n",
      "Competitor 'AppFolio' already exists (ID: 278ffe52-f861-817c-bc44-d0d84e2776fa). Updating.\n",
      "Successfully updated 'AppFolio' in Notion.\n",
      "Finished populating Notion database. 4/4 competitors processed successfully.\n",
      "Population process complete. Check your Notion database.\n"
     ]
    }
   ],
   "source": [
    "# Step 3: Populate Notion database\n",
    "\n",
    "async def main_populate():\n",
    "    if not NOTION_DATABASE_ID:\n",
    "        print(\"Error: NOTION_DATABASE_ID is not set. Cannot populate database. Please ensure Step 2 was successful or provide a valid ID.\")\n",
    "        return\n",
    "    if not NOTION_API_TOKEN:\n",
    "        print(\"Error: NOTION_API_TOKEN is not set. Cannot populate Notion database.\")\n",
    "        return\n",
    "    \n",
    "    # Check if the output folder has any JSON files from Step 1\n",
    "    json_files_exist = any(f.endswith('.json') for f in os.listdir(OUTPUT_FOLDER))\n",
    "    if not json_files_exist:\n",
    "        print(f\"No JSON files found in {OUTPUT_FOLDER}. Run Step 1 to generate them before populating.\")\n",
    "        return\n",
    "        \n",
    "    print(f\"Populating Notion database ID: {NOTION_DATABASE_ID} from folder: {OUTPUT_FOLDER}\")\n",
    "    await populate_notion_db_from_folder(\n",
    "        output_folder=OUTPUT_FOLDER,\n",
    "        database_id=NOTION_DATABASE_ID,\n",
    "        notion_token=NOTION_API_TOKEN\n",
    "    )\n",
    "    print(\"Population process complete. Check your Notion database.\")\n",
    "\n",
    "await main_populate()"
   ]
  },
  {
   "cell_type": "markdown",
   "metadata": {},
   "source": [
    "## Step 4: Update Competitors Database"
   ]
  },
  {
   "cell_type": "code",
   "execution_count": null,
   "metadata": {},
   "outputs": [
    {
     "name": "stdout",
     "output_type": "stream",
     "text": [
      "Found 4 competitors to check for updates...\n",
      "\n",
      "Searching for new competitors...\n",
      "/Users/elenamatay/Cursor Projects/compete-automate-notion-brainster/compete-automate-venv/lib/python3.12/site-packages/vertexai/generative_models/_generative_models.py:433: UserWarning: This feature is deprecated as of June 24, 2025 and will be removed on June 24, 2026. For details, see https://cloud.google.com/vertex-ai/generative-ai/docs/deprecations/genai-vertexai-sdk.\n",
      "  warning_logs.show_deprecation_warning()\n",
      "Performing full re-research for 'AppFolio'...\n",
      "/Users/elenamatay/Cursor Projects/compete-automate-notion-brainster/compete-automate-venv/lib/python3.12/site-packages/vertexai/generative_models/_generative_models.py:433: UserWarning: This feature is deprecated as of June 24, 2025 and will be removed on June 24, 2026. For details, see https://cloud.google.com/vertex-ai/generative-ai/docs/deprecations/genai-vertexai-sdk.\n",
      "  warning_logs.show_deprecation_warning()\n",
      "Performing full re-research for 'Buildium'...\n",
      "Performing full re-research for 'Arteco Fincas'...\n",
      "Performing full re-research for 'Avail'...\n",
      "Discovery complete. Found 2 potential new competitors.\n",
      "Successfully updated research for 'Avail'.\n",
      "Successfully updated research for 'Buildium'.\n",
      "Successfully updated research for 'AppFolio'.\n",
      "Attempt 1 failed for 'Arteco Fincas': Unterminated string starting at: line 71 column 16 (char 6436)\n",
      "Successfully updated research for 'Arteco Fincas'.\n",
      "\n",
      "Generating final executive summary of top changes...\n"
     ]
    }
   ],
   "source": [
    "!python update_competitor_research.py"
   ]
  }
 ],
 "metadata": {
  "kernelspec": {
   "display_name": "compete-automate-venv",
   "language": "python",
   "name": "python3"
  },
  "language_info": {
   "codemirror_mode": {
    "name": "ipython",
    "version": 3
   },
   "file_extension": ".py",
   "mimetype": "text/x-python",
   "name": "python",
   "nbconvert_exporter": "python",
   "pygments_lexer": "ipython3",
   "version": "3.12.0"
  }
 },
 "nbformat": 4,
 "nbformat_minor": 2
}
