{
 "cells": [
  {
   "cell_type": "markdown",
   "metadata": {},
   "source": [
    "# Competitor Research & Notion Database Population\n",
    "\n",
    "## Step 0: Setup\n",
    "\n",
    "1.  **Notion Integration Token:** Create a Notion integration and get your internal integration token. See [Notion's Guide](https://developers.notion.com/docs/create-a-notion-integration). Grant the integration access to the parent page where the database will be created.\n",
    "2.  **Parent Page ID:** In Notion, create or choose an existing page where you want the new Competitor Database to be created. Get its ID. You can get the page ID from its URL (the last part of the URL, e.g., for `https://www.notion.so/My-Page-abcdef1234567890abcdef1234567890`, the ID is `abcdef1234567890abcdef1234567890`). Make sure this page is shared with your integration.\n",
    "3.  **Install requirements:** Ensure you have `requirements.txt` installed (`pip install -r requirements.txt`). It should include `google-cloud-aiplatform`, `google-generativeai`, and `notion-client`."
   ]
  },
  {
   "cell_type": "code",
   "execution_count": 1,
   "metadata": {},
   "outputs": [],
   "source": [
    "# General Imports\n",
    "import asyncio\n",
    "import os\n",
    "from pandas import *\n",
    "from dotenv import load_dotenv\n",
    "\n",
    "load_dotenv()\n",
    "\n",
    "# Import Vertex AI SDK\n",
    "import vertexai.generative_models as generative_models\n",
    "from vertexai.generative_models import Tool, GenerationConfig\n",
    "\n",
    "# Import utility functions (ensure utils.py is in the same directory or accessible in PYTHONPATH)\n",
    "from utils import *\n",
    "from notion_client import Client as NotionSyncClient # For DB creation"
   ]
  },
  {
   "cell_type": "code",
   "execution_count": 2,
   "metadata": {},
   "outputs": [
    {
     "name": "stdout",
     "output_type": "stream",
     "text": [
      "Output folder for JSON: /Users/elenamatay/VSCode projects/compete-automate/competitor_research_json\n",
      "Schema fields to be used: 56 fields including 'CompetitorID' and 'Notes_QualitativeInsights'\n",
      "\n",
      "Environment Variables Check:\n",
      "NOTION_API_TOKEN: Set\n",
      "NOTION_PARENT_PAGE_ID: Set\n"
     ]
    }
   ],
   "source": [
    "# --- Config parameters ---\n",
    "NOTION_API_TOKEN = os.getenv(\"NOTION_API_TOKEN\")  # @param {type:string} TODO: Fill in your Notion Integration Token (e.g., secret_xxxxxxxxxxx)\n",
    "NOTION_PARENT_PAGE_ID = os.getenv(\"NOTION_PARENT_PAGE_ID\")  # @param {type:string} TODO: Fill in the ID of the Notion page to host the database (e.g., abcdef1234567890abcdef1234567890)\n",
    "NOTION_DATABASE_NAME = \"Compete Analysis DB\"  # @param {type:string} Name for the new Notion Database\n",
    "NOTION_DATABASE_ID = os.getenv(\"NOTION_DATABASE_ID\")  # @param {type:string} TODO: Fill in the ID of the Notion Database (e.g., xxxxxxxx-xxxx-xxxx-xxxx-xxxxxxxxxxxx)\n",
    "\n",
    "COMPETITORS = read_csv(\"competitors.csv\")[\"Competitor\"].tolist()  # @param {type:raw} List of competitor names to research\n",
    "\n",
    "TOPIC_DOMAIN = \"AI/ML solutions\"  # @param {type:string} General domain for the research context provided to the LLM\n",
    "RESEARCH_GOAL = \"To identify key offerings, strengths, weaknesses, target markets, and pricing models for each competitor, to inform our startup's strategic positioning.\"   # @param {type:string} Specific goal of the research for the LLM\n",
    "\n",
    "OUTPUT_FOLDER = \"competitor_research_json\"  # @param {type:string} Folder to save the intermediate JSON research files\n",
    "\n",
    "# Ensure output folder exists\n",
    "os.makedirs(OUTPUT_FOLDER, exist_ok=True)\n",
    "\n",
    "print(f\"Output folder for JSON: {os.path.abspath(OUTPUT_FOLDER)}\")\n",
    "print(f\"Schema fields to be used: {len(CSV_SCHEMA)} fields including '{CSV_SCHEMA[0]}' and '{CSV_SCHEMA[-1]}'\")\n",
    "\n",
    "# Verify critical environment variables\n",
    "print(\"\\nEnvironment Variables Check:\")\n",
    "print(f\"NOTION_API_TOKEN: {'Set' if NOTION_API_TOKEN else 'Not Set'}\")\n",
    "print(f\"NOTION_PARENT_PAGE_ID: {'Set' if NOTION_PARENT_PAGE_ID else 'Not Set'}\")"
   ]
  },
  {
   "cell_type": "markdown",
   "metadata": {},
   "source": [
    "## Step 1: Research Competitors (Async)\n",
    "\n",
    "This step will use Gemini 1.5 Pro to research each competitor based on the `CSV_SCHEMA` defined in `utils.py`. The results for each competitor will be saved as a JSON file in the `OUTPUT_FOLDER`."
   ]
  },
  {
   "cell_type": "code",
   "execution_count": 3,
   "metadata": {},
   "outputs": [],
   "source": [
    "# Let's first do a test run with two single competitors\n",
    "COMPETITORS = [\"Woz\", \"Rocketable\"]  # @param {type:raw} List of competitor names to research"
   ]
  },
  {
   "cell_type": "code",
   "execution_count": 4,
   "metadata": {},
   "outputs": [
    {
     "name": "stdout",
     "output_type": "stream",
     "text": [
      "Starting research for 2 competitors: ['Woz', 'Rocketable']\n",
      "Queueing research for: Woz\n",
      "Queueing research for: Rocketable\n",
      "Attempt 1 to research Woz...\n",
      "Attempt 1 to research Rocketable...\n",
      "Successfully researched and saved data for Woz to competitor_research_json/Woz.json\n",
      "Successfully researched and saved data for Rocketable to competitor_research_json/Rocketable.json\n",
      "Finished researching all competitors. 2 successful out of 2.\n",
      "\n",
      "Research complete. 2 JSON files created in competitor_research_json:\n",
      " - competitor_research_json/Woz.json\n",
      " - competitor_research_json/Rocketable.json\n"
     ]
    }
   ],
   "source": [
    "# Configure the search tool using Vertex AI\n",
    "search_tool = Tool.from_dict({\n",
    "    \"google_search\": {}\n",
    "})\n",
    "\n",
    "# Use Vertex AI's GenerationConfig\n",
    "config = GenerationConfig(\n",
    "    temperature=0.1,\n",
    "    top_p=1.0\n",
    ")\n",
    "\n",
    "request_args = {\n",
    "    \"generation_config\": config,\n",
    "    \"tools\": [search_tool],\n",
    "    \"stream\": False\n",
    "}\n",
    "\n",
    "async def main_research():\n",
    "    if not COMPETITORS:\n",
    "        print(\"No competitors listed. Please add competitors to the COMPETITORS list.\")\n",
    "        return\n",
    "    \n",
    "    print(f\"Starting research for {len(COMPETITORS)} competitors: {COMPETITORS}\")\n",
    "    successful_json_files = await research_competitors_async(\n",
    "        competitors_list=COMPETITORS,\n",
    "        topic_domain=TOPIC_DOMAIN,\n",
    "        research_goal=RESEARCH_GOAL,\n",
    "        output_folder_path=OUTPUT_FOLDER,\n",
    "        request_args=request_args  # Pass the configured request args\n",
    "    )\n",
    "    print(f\"\\nResearch complete. {len(successful_json_files)} JSON files created in {OUTPUT_FOLDER}:\")\n",
    "    for f_path in successful_json_files:\n",
    "        print(f\" - {f_path}\")\n",
    "\n",
    "await main_research()"
   ]
  },
  {
   "cell_type": "markdown",
   "metadata": {},
   "source": [
    "## Step 2: Create or Verify Notion Database\n",
    "\n",
    "This step will create a new database in your Notion workspace under the specified `NOTION_PARENT_PAGE_ID` if `NOTION_DATABASE_ID` is not already provided. The database columns will match the `CSV_SCHEMA`. \n",
    "If `NOTION_DATABASE_ID` is provided, this step will simply confirm its use."
   ]
  },
  {
   "cell_type": "code",
   "execution_count": null,
   "metadata": {},
   "outputs": [],
   "source": []
  },
  {
   "cell_type": "code",
   "execution_count": 5,
   "metadata": {},
   "outputs": [
    {
     "name": "stdout",
     "output_type": "stream",
     "text": [
      "Using existing Notion Database ID: 20c0e4393c5481ea8b72d21c4a351dbe\n",
      "\n",
      "Final Notion Database ID to be used for population: 20c0e4393c5481ea8b72d21c4a351dbe\n"
     ]
    }
   ],
   "source": [
    "# Step 2: Create or verify Notion database\n",
    "new_db_id = await setup_notion_database(\n",
    "    notion_token=NOTION_API_TOKEN,\n",
    "    parent_page_id=NOTION_PARENT_PAGE_ID,\n",
    "    database_name=NOTION_DATABASE_NAME,\n",
    "    database_id=NOTION_DATABASE_ID\n",
    ")\n",
    "\n",
    "print(f\"\\nFinal Notion Database ID to be used for population: {NOTION_DATABASE_ID}\")"
   ]
  },
  {
   "cell_type": "markdown",
   "metadata": {},
   "source": [
    "## Step 3: Populate Notion Database\n",
    "\n",
    "This step will take the JSON files from the `OUTPUT_FOLDER` and populate the Notion database specified by `NOTION_DATABASE_ID`."
   ]
  },
  {
   "cell_type": "code",
   "execution_count": 6,
   "metadata": {},
   "outputs": [
    {
     "name": "stdout",
     "output_type": "stream",
     "text": [
      "Populating Notion database ID: 20c0e4393c5481ea8b72d21c4a351dbe from folder: competitor_research_json\n",
      "Competitor 'Rocketable' already exists (ID: 20c0e439-3c54-81fb-af98-da981acc4bd4). Updating.\n",
      "Competitor 'Woz' already exists (ID: 20c0e439-3c54-8111-8e9c-ec3057acf5c0). Updating.\n",
      "Successfully updated 'Woz' in Notion.\n",
      "Successfully updated 'Rocketable' in Notion.\n",
      "Finished populating Notion database. 2/2 competitors processed successfully.\n",
      "Population process complete. Check your Notion database.\n"
     ]
    }
   ],
   "source": [
    "async def main_populate():\n",
    "    if not NOTION_DATABASE_ID:\n",
    "        print(\"Error: NOTION_DATABASE_ID is not set. Cannot populate database. Please ensure Step 2 was successful or provide a valid ID.\")\n",
    "        return\n",
    "    if not NOTION_API_TOKEN:\n",
    "        print(\"Error: NOTION_API_TOKEN is not set. Cannot populate Notion database.\")\n",
    "        return\n",
    "    \n",
    "    # Check if the output folder has any JSON files from Step 1\n",
    "    json_files_exist = any(f.endswith('.json') for f in os.listdir(OUTPUT_FOLDER))\n",
    "    if not json_files_exist:\n",
    "        print(f\"No JSON files found in {OUTPUT_FOLDER}. Run Step 1 to generate them before populating.\")\n",
    "        return\n",
    "        \n",
    "    print(f\"Populating Notion database ID: {NOTION_DATABASE_ID} from folder: {OUTPUT_FOLDER}\")\n",
    "    await populate_notion_db_from_folder(\n",
    "        output_folder=OUTPUT_FOLDER,\n",
    "        database_id=NOTION_DATABASE_ID,\n",
    "        notion_token=NOTION_API_TOKEN,\n",
    "        title_field_name=\"Competitor Name\" # This must match the title property in your Notion DB and schema\n",
    "    )\n",
    "    print(\"Population process complete. Check your Notion database.\")\n",
    "\n",
    "await main_populate()"
   ]
  },
  {
   "cell_type": "code",
   "execution_count": null,
   "metadata": {},
   "outputs": [],
   "source": []
  }
 ],
 "metadata": {
  "kernelspec": {
   "display_name": "compete-automate-venv",
   "language": "python",
   "name": "python3"
  },
  "language_info": {
   "codemirror_mode": {
    "name": "ipython",
    "version": 3
   },
   "file_extension": ".py",
   "mimetype": "text/x-python",
   "name": "python",
   "nbconvert_exporter": "python",
   "pygments_lexer": "ipython3",
   "version": "3.12.0"
  }
 },
 "nbformat": 4,
 "nbformat_minor": 2
}
