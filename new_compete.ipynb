{
 "cells": [
  {
   "cell_type": "markdown",
   "metadata": {},
   "source": [
    "# Competitor Research & Notion Database Population\n",
    "\n",
    "## Step 0: Setup\n",
    "\n",
    "1.  **Notion Integration Token:** Create a Notion integration and get your internal integration token. See [Notion's Guide](https://developers.notion.com/docs/create-a-notion-integration). Grant the integration access to the parent page where the database will be created.\n",
    "2.  **Parent Page ID:** In Notion, create or choose an existing page where you want the new Competitor Database to be created. Get its ID. You can get the page ID from its URL (the last part of the URL, e.g., for `https://www.notion.so/My-Page-abcdef1234567890abcdef1234567890`, the ID is `abcdef1234567890abcdef1234567890`). Make sure this page is shared with your integration.\n",
    "3.  **Install requirements:** Ensure you have `requirements.txt` installed (`pip install -r requirements.txt`). It should include `google-cloud-aiplatform`, `google-generativeai`, and `notion-client`."
   ]
  },
  {
   "cell_type": "code",
   "execution_count": 1,
   "metadata": {},
   "outputs": [],
   "source": [
    "# General Imports\n",
    "import asyncio\n",
    "import os\n",
    "from pandas import *\n",
    "from dotenv import load_dotenv\n",
    "\n",
    "load_dotenv()\n",
    "\n",
    "# Import Vertex AI SDK\n",
    "import vertexai.generative_models as generative_models\n",
    "from vertexai.generative_models import Tool, GenerationConfig\n",
    "\n",
    "# Import utility functions (ensure utils.py is in the same directory or accessible in PYTHONPATH)\n",
    "from utils import *\n",
    "from notion_client import Client as NotionSyncClient # For DB creation"
   ]
  },
  {
   "cell_type": "code",
   "execution_count": 2,
   "metadata": {},
   "outputs": [
    {
     "name": "stdout",
     "output_type": "stream",
     "text": [
      "Output folder for JSON: /Users/elenamatay/VSCode projects/compete-automate/competitor_research_json\n",
      "Schema fields to be used: 55 fields including 'CompetitorID' and 'Notes_QualitativeInsights'\n",
      "\n",
      "Environment Variables Check:\n",
      "NOTION_API_TOKEN: Set\n",
      "NOTION_PARENT_PAGE_ID: Set\n"
     ]
    }
   ],
   "source": [
    "# --- Config parameters ---\n",
    "NOTION_API_TOKEN = os.getenv(\"NOTION_API_TOKEN\")  # @param {type:string} TODO: Fill in your Notion Integration Token (e.g., secret_xxxxxxxxxxx)\n",
    "NOTION_PARENT_PAGE_ID = os.getenv(\"NOTION_PARENT_PAGE_ID\")  # @param {type:string} TODO: Fill in the ID of the Notion page to host the database (e.g., abcdef1234567890abcdef1234567890)\n",
    "NOTION_DATABASE_NAME = \"Compete Analysis DB\"  # @param {type:string} Name for the new Notion Database\n",
    "NOTION_DATABASE_ID = os.getenv(\"NOTION_DATABASE_ID\")  # @param {type:string} TODO: Fill in the ID of the Notion Database (e.g., xxxxxxxx-xxxx-xxxx-xxxx-xxxxxxxxxxxx)\n",
    "\n",
    "COMPETITORS = read_csv(\"competitors.csv\")[\"Competitor\"].tolist()  # @param {type:raw} List of competitor names to research\n",
    "\n",
    "TOPIC_DOMAIN = \"AI/ML solutions\"  # @param {type:string} General domain for the research context provided to the LLM\n",
    "RESEARCH_GOAL = \"To identify key offerings, strengths, weaknesses, target markets, and pricing models for each competitor, to inform our startup's strategic positioning.\"   # @param {type:string} Specific goal of the research for the LLM\n",
    "\n",
    "OUTPUT_FOLDER = \"competitor_research_json\"  # @param {type:string} Folder to save the intermediate JSON research files\n",
    "\n",
    "# Ensure output folder exists\n",
    "os.makedirs(OUTPUT_FOLDER, exist_ok=True)\n",
    "\n",
    "print(f\"Output folder for JSON: {os.path.abspath(OUTPUT_FOLDER)}\")\n",
    "print(f\"Schema fields to be used: {len(CSV_SCHEMA)} fields including '{CSV_SCHEMA[0]}' and '{CSV_SCHEMA[-1]}'\")\n",
    "\n",
    "# Verify critical environment variables\n",
    "print(\"\\nEnvironment Variables Check:\")\n",
    "print(f\"NOTION_API_TOKEN: {'Set' if NOTION_API_TOKEN else 'Not Set'}\")\n",
    "print(f\"NOTION_PARENT_PAGE_ID: {'Set' if NOTION_PARENT_PAGE_ID else 'Not Set'}\")"
   ]
  },
  {
   "cell_type": "markdown",
   "metadata": {},
   "source": [
    "## Step 1: Research Competitors (Async)\n",
    "\n",
    "This step will use Gemini 1.5 Pro to research each competitor based on the `CSV_SCHEMA` defined in `utils.py`. The results for each competitor will be saved as a JSON file in the `OUTPUT_FOLDER`."
   ]
  },
  {
   "cell_type": "code",
   "execution_count": 3,
   "metadata": {},
   "outputs": [],
   "source": [
    "# Let's first do a test run with two single competitors\n",
    "COMPETITORS = [\"Woz\", \"Rocketable\"]  # @param {type:raw} List of competitor names to research"
   ]
  },
  {
   "cell_type": "code",
   "execution_count": 4,
   "metadata": {},
   "outputs": [
    {
     "name": "stdout",
     "output_type": "stream",
     "text": [
      "Starting research for 2 competitors: ['Woz', 'Rocketable']\n",
      "Queueing research for: Woz\n",
      "Queueing research for: Rocketable\n"
     ]
    },
    {
     "ename": "ParseError",
     "evalue": "Failed to parse google_search field: Message type \"google.cloud.aiplatform.v1beta1.Tool.GoogleSearch\" has no field named \"max_results\" at \"Tool.google_search\".\n Available Fields(except extensions): \"[]\".",
     "output_type": "error",
     "traceback": [
      "\u001b[31m---------------------------------------------------------------------------\u001b[39m",
      "\u001b[31mParseError\u001b[39m                                Traceback (most recent call last)",
      "\u001b[36mFile \u001b[39m\u001b[32m~/.pyenv/versions/compete-automate-venv/lib/python3.12/site-packages/google/protobuf/json_format.py:585\u001b[39m, in \u001b[36m_Parser._ConvertFieldValuePair\u001b[39m\u001b[34m(self, js, message, path)\u001b[39m\n\u001b[32m    584\u001b[39m     \u001b[38;5;28;01mcontinue\u001b[39;00m\n\u001b[32m--> \u001b[39m\u001b[32m585\u001b[39m   \u001b[38;5;28;01mraise\u001b[39;00m ParseError(\n\u001b[32m    586\u001b[39m       (\n\u001b[32m    587\u001b[39m           \u001b[33m'\u001b[39m\u001b[33mMessage type \u001b[39m\u001b[33m\"\u001b[39m\u001b[38;5;132;01m{0}\u001b[39;00m\u001b[33m\"\u001b[39m\u001b[33m has no field named \u001b[39m\u001b[33m\"\u001b[39m\u001b[38;5;132;01m{1}\u001b[39;00m\u001b[33m\"\u001b[39m\u001b[33m at \u001b[39m\u001b[33m\"\u001b[39m\u001b[38;5;132;01m{2}\u001b[39;00m\u001b[33m\"\u001b[39m\u001b[33m.\u001b[39m\u001b[38;5;130;01m\\n\u001b[39;00m\u001b[33m'\u001b[39m\n\u001b[32m    588\u001b[39m           \u001b[33m'\u001b[39m\u001b[33m Available Fields(except extensions): \u001b[39m\u001b[33m\"\u001b[39m\u001b[38;5;132;01m{3}\u001b[39;00m\u001b[33m\"\u001b[39m\u001b[33m'\u001b[39m\n\u001b[32m    589\u001b[39m       ).format(\n\u001b[32m    590\u001b[39m           message_descriptor.full_name,\n\u001b[32m    591\u001b[39m           name,\n\u001b[32m    592\u001b[39m           path,\n\u001b[32m    593\u001b[39m           [f.json_name \u001b[38;5;28;01mfor\u001b[39;00m f \u001b[38;5;129;01min\u001b[39;00m message_descriptor.fields],\n\u001b[32m    594\u001b[39m       )\n\u001b[32m    595\u001b[39m   )\n\u001b[32m    596\u001b[39m \u001b[38;5;28;01mif\u001b[39;00m name \u001b[38;5;129;01min\u001b[39;00m names:\n",
      "\u001b[31mParseError\u001b[39m: Message type \"google.cloud.aiplatform.v1beta1.Tool.GoogleSearch\" has no field named \"max_results\" at \"Tool.google_search\".\n Available Fields(except extensions): \"[]\"",
      "\nThe above exception was the direct cause of the following exception:\n",
      "\u001b[31mParseError\u001b[39m                                Traceback (most recent call last)",
      "\u001b[36mFile \u001b[39m\u001b[32m~/.pyenv/versions/compete-automate-venv/lib/python3.12/site-packages/google/protobuf/json_format.py:684\u001b[39m, in \u001b[36m_Parser._ConvertFieldValuePair\u001b[39m\u001b[34m(self, js, message, path)\u001b[39m\n\u001b[32m    683\u001b[39m   sub_message.SetInParent()\n\u001b[32m--> \u001b[39m\u001b[32m684\u001b[39m   \u001b[38;5;28;43mself\u001b[39;49m\u001b[43m.\u001b[49m\u001b[43mConvertMessage\u001b[49m\u001b[43m(\u001b[49m\u001b[43mvalue\u001b[49m\u001b[43m,\u001b[49m\u001b[43m \u001b[49m\u001b[43msub_message\u001b[49m\u001b[43m,\u001b[49m\u001b[43m \u001b[49m\u001b[33;43m'\u001b[39;49m\u001b[38;5;132;43;01m{0}\u001b[39;49;00m\u001b[33;43m.\u001b[39;49m\u001b[38;5;132;43;01m{1}\u001b[39;49;00m\u001b[33;43m'\u001b[39;49m\u001b[43m.\u001b[49m\u001b[43mformat\u001b[49m\u001b[43m(\u001b[49m\u001b[43mpath\u001b[49m\u001b[43m,\u001b[49m\u001b[43m \u001b[49m\u001b[43mname\u001b[49m\u001b[43m)\u001b[49m\u001b[43m)\u001b[49m\n\u001b[32m    685\u001b[39m \u001b[38;5;28;01melse\u001b[39;00m:\n",
      "\u001b[36mFile \u001b[39m\u001b[32m~/.pyenv/versions/compete-automate-venv/lib/python3.12/site-packages/google/protobuf/json_format.py:540\u001b[39m, in \u001b[36m_Parser.ConvertMessage\u001b[39m\u001b[34m(self, value, message, path)\u001b[39m\n\u001b[32m    539\u001b[39m \u001b[38;5;28;01melse\u001b[39;00m:\n\u001b[32m--> \u001b[39m\u001b[32m540\u001b[39m   \u001b[38;5;28;43mself\u001b[39;49m\u001b[43m.\u001b[49m\u001b[43m_ConvertFieldValuePair\u001b[49m\u001b[43m(\u001b[49m\u001b[43mvalue\u001b[49m\u001b[43m,\u001b[49m\u001b[43m \u001b[49m\u001b[43mmessage\u001b[49m\u001b[43m,\u001b[49m\u001b[43m \u001b[49m\u001b[43mpath\u001b[49m\u001b[43m)\u001b[49m\n\u001b[32m    541\u001b[39m \u001b[38;5;28mself\u001b[39m.recursion_depth -= \u001b[32m1\u001b[39m\n",
      "\u001b[36mFile \u001b[39m\u001b[32m~/.pyenv/versions/compete-automate-venv/lib/python3.12/site-packages/google/protobuf/json_format.py:696\u001b[39m, in \u001b[36m_Parser._ConvertFieldValuePair\u001b[39m\u001b[34m(self, js, message, path)\u001b[39m\n\u001b[32m    695\u001b[39m   \u001b[38;5;28;01melse\u001b[39;00m:\n\u001b[32m--> \u001b[39m\u001b[32m696\u001b[39m     \u001b[38;5;28;01mraise\u001b[39;00m ParseError(\u001b[38;5;28mstr\u001b[39m(e)) \u001b[38;5;28;01mfrom\u001b[39;00m\u001b[38;5;250m \u001b[39m\u001b[34;01me\u001b[39;00m\n\u001b[32m    697\u001b[39m \u001b[38;5;28;01mexcept\u001b[39;00m \u001b[38;5;167;01mValueError\u001b[39;00m \u001b[38;5;28;01mas\u001b[39;00m e:\n",
      "\u001b[31mParseError\u001b[39m: Message type \"google.cloud.aiplatform.v1beta1.Tool.GoogleSearch\" has no field named \"max_results\" at \"Tool.google_search\".\n Available Fields(except extensions): \"[]\"",
      "\nThe above exception was the direct cause of the following exception:\n",
      "\u001b[31mParseError\u001b[39m                                Traceback (most recent call last)",
      "\u001b[36mCell\u001b[39m\u001b[36m \u001b[39m\u001b[32mIn[4]\u001b[39m\u001b[32m, line 35\u001b[39m\n\u001b[32m     32\u001b[39m     \u001b[38;5;28;01mfor\u001b[39;00m f_path \u001b[38;5;129;01min\u001b[39;00m successful_json_files:\n\u001b[32m     33\u001b[39m         \u001b[38;5;28mprint\u001b[39m(\u001b[33mf\u001b[39m\u001b[33m\"\u001b[39m\u001b[33m - \u001b[39m\u001b[38;5;132;01m{\u001b[39;00mf_path\u001b[38;5;132;01m}\u001b[39;00m\u001b[33m\"\u001b[39m)\n\u001b[32m---> \u001b[39m\u001b[32m35\u001b[39m \u001b[38;5;28;01mawait\u001b[39;00m main_research()\n",
      "\u001b[36mCell\u001b[39m\u001b[36m \u001b[39m\u001b[32mIn[4]\u001b[39m\u001b[32m, line 24\u001b[39m, in \u001b[36mmain_research\u001b[39m\u001b[34m()\u001b[39m\n\u001b[32m     21\u001b[39m     \u001b[38;5;28;01mreturn\u001b[39;00m\n\u001b[32m     23\u001b[39m \u001b[38;5;28mprint\u001b[39m(\u001b[33mf\u001b[39m\u001b[33m\"\u001b[39m\u001b[33mStarting research for \u001b[39m\u001b[38;5;132;01m{\u001b[39;00m\u001b[38;5;28mlen\u001b[39m(COMPETITORS)\u001b[38;5;132;01m}\u001b[39;00m\u001b[33m competitors: \u001b[39m\u001b[38;5;132;01m{\u001b[39;00mCOMPETITORS\u001b[38;5;132;01m}\u001b[39;00m\u001b[33m\"\u001b[39m)\n\u001b[32m---> \u001b[39m\u001b[32m24\u001b[39m successful_json_files = \u001b[38;5;28;01mawait\u001b[39;00m research_competitors_async(\n\u001b[32m     25\u001b[39m     competitors_list=COMPETITORS,\n\u001b[32m     26\u001b[39m     topic_domain=TOPIC_DOMAIN,\n\u001b[32m     27\u001b[39m     research_goal=RESEARCH_GOAL,\n\u001b[32m     28\u001b[39m     output_folder_path=OUTPUT_FOLDER,\n\u001b[32m     29\u001b[39m     request_args=request_args  \u001b[38;5;66;03m# Pass the configured request args\u001b[39;00m\n\u001b[32m     30\u001b[39m )\n\u001b[32m     31\u001b[39m \u001b[38;5;28mprint\u001b[39m(\u001b[33mf\u001b[39m\u001b[33m\"\u001b[39m\u001b[38;5;130;01m\\n\u001b[39;00m\u001b[33mResearch complete. \u001b[39m\u001b[38;5;132;01m{\u001b[39;00m\u001b[38;5;28mlen\u001b[39m(successful_json_files)\u001b[38;5;132;01m}\u001b[39;00m\u001b[33m JSON files created in \u001b[39m\u001b[38;5;132;01m{\u001b[39;00mOUTPUT_FOLDER\u001b[38;5;132;01m}\u001b[39;00m\u001b[33m:\u001b[39m\u001b[33m\"\u001b[39m)\n\u001b[32m     32\u001b[39m \u001b[38;5;28;01mfor\u001b[39;00m f_path \u001b[38;5;129;01min\u001b[39;00m successful_json_files:\n",
      "\u001b[36mFile \u001b[39m\u001b[32m~/VSCode projects/compete-automate/utils.py:302\u001b[39m, in \u001b[36mresearch_competitors_async\u001b[39m\u001b[34m(competitors_list, topic_domain, research_goal, output_folder_path, request_args)\u001b[39m\n\u001b[32m    291\u001b[39m     \u001b[38;5;28mprint\u001b[39m(\u001b[33mf\u001b[39m\u001b[33m\"\u001b[39m\u001b[33mQueueing research for: \u001b[39m\u001b[38;5;132;01m{\u001b[39;00mcompetitor_name\u001b[38;5;132;01m}\u001b[39;00m\u001b[33m\"\u001b[39m)\n\u001b[32m    292\u001b[39m     tasks.append(\n\u001b[32m    293\u001b[39m         research_competitor_to_json(\n\u001b[32m    294\u001b[39m             competitor_name,\n\u001b[32m   (...)\u001b[39m\u001b[32m    299\u001b[39m         )\n\u001b[32m    300\u001b[39m     )\n\u001b[32m--> \u001b[39m\u001b[32m302\u001b[39m results_paths = \u001b[38;5;28;01mawait\u001b[39;00m asyncio.gather(*tasks)\n\u001b[32m    303\u001b[39m successful_paths = [path \u001b[38;5;28;01mfor\u001b[39;00m path \u001b[38;5;129;01min\u001b[39;00m results_paths \u001b[38;5;28;01mif\u001b[39;00m path \u001b[38;5;129;01mis\u001b[39;00m \u001b[38;5;129;01mnot\u001b[39;00m \u001b[38;5;28;01mNone\u001b[39;00m]\n\u001b[32m    304\u001b[39m \u001b[38;5;28mprint\u001b[39m(\u001b[33mf\u001b[39m\u001b[33m\"\u001b[39m\u001b[33mFinished researching all competitors. \u001b[39m\u001b[38;5;132;01m{\u001b[39;00m\u001b[38;5;28mlen\u001b[39m(successful_paths)\u001b[38;5;132;01m}\u001b[39;00m\u001b[33m successful out of \u001b[39m\u001b[38;5;132;01m{\u001b[39;00m\u001b[38;5;28mlen\u001b[39m(competitors_list)\u001b[38;5;132;01m}\u001b[39;00m\u001b[33m.\u001b[39m\u001b[33m\"\u001b[39m)\n",
      "\u001b[36mFile \u001b[39m\u001b[32m~/VSCode projects/compete-automate/utils.py:164\u001b[39m, in \u001b[36mresearch_competitor_to_json\u001b[39m\u001b[34m(competitor_name, topic_domain, research_goal, output_folder, seido_context, request_args)\u001b[39m\n\u001b[32m    159\u001b[39m model = generative_models.GenerativeModel(\u001b[33m\"\u001b[39m\u001b[33mgemini-2.5-flash-preview-05-20\u001b[39m\u001b[33m\"\u001b[39m)\n\u001b[32m    161\u001b[39m \u001b[38;5;28;01mif\u001b[39;00m request_args \u001b[38;5;129;01mis\u001b[39;00m \u001b[38;5;28;01mNone\u001b[39;00m:\n\u001b[32m    162\u001b[39m     \u001b[38;5;66;03m# Configure default request args if none provided\u001b[39;00m\n\u001b[32m    163\u001b[39m     \u001b[38;5;66;03m# Using standard Google AI SDK format for tool configuration\u001b[39;00m\n\u001b[32m--> \u001b[39m\u001b[32m164\u001b[39m     search_tool = \u001b[43mTool\u001b[49m\u001b[43m.\u001b[49m\u001b[43mfrom_dict\u001b[49m\u001b[43m(\u001b[49m\u001b[43m{\u001b[49m\n\u001b[32m    165\u001b[39m \u001b[43m        \u001b[49m\u001b[33;43m\"\u001b[39;49m\u001b[33;43mgoogle_search\u001b[39;49m\u001b[33;43m\"\u001b[39;49m\u001b[43m:\u001b[49m\u001b[43m \u001b[49m\u001b[43m{\u001b[49m\n\u001b[32m    166\u001b[39m \u001b[43m            \u001b[49m\u001b[33;43m\"\u001b[39;49m\u001b[33;43mmax_results\u001b[39;49m\u001b[33;43m\"\u001b[39;49m\u001b[43m:\u001b[49m\u001b[43m \u001b[49m\u001b[32;43m10\u001b[39;49m\u001b[43m,\u001b[49m\u001b[43m  \u001b[49m\u001b[38;5;66;43;03m# Increase number of search results\u001b[39;49;00m\n\u001b[32m    167\u001b[39m \u001b[43m            \u001b[49m\u001b[33;43m\"\u001b[39;49m\u001b[33;43msearch_depth\u001b[39;49m\u001b[33;43m\"\u001b[39;49m\u001b[43m:\u001b[49m\u001b[43m \u001b[49m\u001b[33;43m\"\u001b[39;49m\u001b[33;43mdeep\u001b[39;49m\u001b[33;43m\"\u001b[39;49m\u001b[43m,\u001b[49m\u001b[43m  \u001b[49m\u001b[38;5;66;43;03m# Request deeper search\u001b[39;49;00m\n\u001b[32m    168\u001b[39m \u001b[43m        \u001b[49m\u001b[43m}\u001b[49m\n\u001b[32m    169\u001b[39m \u001b[43m    \u001b[49m\u001b[43m}\u001b[49m\u001b[43m)\u001b[49m\n\u001b[32m    171\u001b[39m     config = GenerationConfig(\n\u001b[32m    172\u001b[39m         temperature=\u001b[32m0.1\u001b[39m,\n\u001b[32m    173\u001b[39m         top_p=\u001b[32m1.0\u001b[39m\n\u001b[32m    174\u001b[39m     )\n\u001b[32m    176\u001b[39m     request_args = {\n\u001b[32m    177\u001b[39m         \u001b[33m\"\u001b[39m\u001b[33mgeneration_config\u001b[39m\u001b[33m\"\u001b[39m: config,\n\u001b[32m    178\u001b[39m         \u001b[33m\"\u001b[39m\u001b[33mtools\u001b[39m\u001b[33m\"\u001b[39m: [search_tool],\n\u001b[32m    179\u001b[39m         \u001b[33m\"\u001b[39m\u001b[33mstream\u001b[39m\u001b[33m\"\u001b[39m: \u001b[38;5;28;01mFalse\u001b[39;00m\n\u001b[32m    180\u001b[39m     }\n",
      "\u001b[36mFile \u001b[39m\u001b[32m~/.pyenv/versions/compete-automate-venv/lib/python3.12/site-packages/vertexai/generative_models/_generative_models.py:2116\u001b[39m, in \u001b[36mTool.from_dict\u001b[39m\u001b[34m(cls, tool_dict)\u001b[39m\n\u001b[32m   2114\u001b[39m     \u001b[38;5;28;01mif\u001b[39;00m parameters:\n\u001b[32m   2115\u001b[39m         _fix_schema_dict_for_gapic_in_place(parameters)\n\u001b[32m-> \u001b[39m\u001b[32m2116\u001b[39m raw_tool = \u001b[43m_dict_to_proto\u001b[49m\u001b[43m(\u001b[49m\u001b[43maiplatform_types\u001b[49m\u001b[43m.\u001b[49m\u001b[43mTool\u001b[49m\u001b[43m,\u001b[49m\u001b[43m \u001b[49m\u001b[43mtool_dict\u001b[49m\u001b[43m)\u001b[49m\n\u001b[32m   2117\u001b[39m \u001b[38;5;28;01mreturn\u001b[39;00m \u001b[38;5;28mcls\u001b[39m._from_gapic(raw_tool=raw_tool)\n",
      "\u001b[36mFile \u001b[39m\u001b[32m~/.pyenv/versions/compete-automate-venv/lib/python3.12/site-packages/vertexai/generative_models/_generative_models.py:3214\u001b[39m, in \u001b[36m_dict_to_proto\u001b[39m\u001b[34m(message_type, message_dict)\u001b[39m\n\u001b[32m   3211\u001b[39m \u001b[38;5;66;03m# We cannot just use `message = message_type(message_dict)` because\u001b[39;00m\n\u001b[32m   3212\u001b[39m \u001b[38;5;66;03m# it fails for classes where GAPIC has renamed proto fields.\u001b[39;00m\n\u001b[32m   3213\u001b[39m message = message_type()\n\u001b[32m-> \u001b[39m\u001b[32m3214\u001b[39m \u001b[43mjson_format\u001b[49m\u001b[43m.\u001b[49m\u001b[43mParseDict\u001b[49m\u001b[43m(\u001b[49m\u001b[43mmessage_dict\u001b[49m\u001b[43m,\u001b[49m\u001b[43m \u001b[49m\u001b[43mmessage\u001b[49m\u001b[43m.\u001b[49m\u001b[43m_pb\u001b[49m\u001b[43m)\u001b[49m\n\u001b[32m   3215\u001b[39m \u001b[38;5;28;01mreturn\u001b[39;00m message\n",
      "\u001b[36mFile \u001b[39m\u001b[32m~/.pyenv/versions/compete-automate-venv/lib/python3.12/site-packages/google/protobuf/json_format.py:495\u001b[39m, in \u001b[36mParseDict\u001b[39m\u001b[34m(js_dict, message, ignore_unknown_fields, descriptor_pool, max_recursion_depth)\u001b[39m\n\u001b[32m    479\u001b[39m \u001b[38;5;250m\u001b[39m\u001b[33;03m\"\"\"Parses a JSON dictionary representation into a message.\u001b[39;00m\n\u001b[32m    480\u001b[39m \n\u001b[32m    481\u001b[39m \u001b[33;03mArgs:\u001b[39;00m\n\u001b[32m   (...)\u001b[39m\u001b[32m    492\u001b[39m \u001b[33;03m  The same message passed as argument.\u001b[39;00m\n\u001b[32m    493\u001b[39m \u001b[33;03m\"\"\"\u001b[39;00m\n\u001b[32m    494\u001b[39m parser = _Parser(ignore_unknown_fields, descriptor_pool, max_recursion_depth)\n\u001b[32m--> \u001b[39m\u001b[32m495\u001b[39m \u001b[43mparser\u001b[49m\u001b[43m.\u001b[49m\u001b[43mConvertMessage\u001b[49m\u001b[43m(\u001b[49m\u001b[43mjs_dict\u001b[49m\u001b[43m,\u001b[49m\u001b[43m \u001b[49m\u001b[43mmessage\u001b[49m\u001b[43m,\u001b[49m\u001b[43m \u001b[49m\u001b[33;43m'\u001b[39;49m\u001b[33;43m'\u001b[39;49m\u001b[43m)\u001b[49m\n\u001b[32m    496\u001b[39m \u001b[38;5;28;01mreturn\u001b[39;00m message\n",
      "\u001b[36mFile \u001b[39m\u001b[32m~/.pyenv/versions/compete-automate-venv/lib/python3.12/site-packages/google/protobuf/json_format.py:540\u001b[39m, in \u001b[36m_Parser.ConvertMessage\u001b[39m\u001b[34m(self, value, message, path)\u001b[39m\n\u001b[32m    538\u001b[39m   methodcaller(_WKTJSONMETHODS[full_name][\u001b[32m1\u001b[39m], value, message, path)(\u001b[38;5;28mself\u001b[39m)\n\u001b[32m    539\u001b[39m \u001b[38;5;28;01melse\u001b[39;00m:\n\u001b[32m--> \u001b[39m\u001b[32m540\u001b[39m   \u001b[38;5;28;43mself\u001b[39;49m\u001b[43m.\u001b[49m\u001b[43m_ConvertFieldValuePair\u001b[49m\u001b[43m(\u001b[49m\u001b[43mvalue\u001b[49m\u001b[43m,\u001b[49m\u001b[43m \u001b[49m\u001b[43mmessage\u001b[49m\u001b[43m,\u001b[49m\u001b[43m \u001b[49m\u001b[43mpath\u001b[49m\u001b[43m)\u001b[49m\n\u001b[32m    541\u001b[39m \u001b[38;5;28mself\u001b[39m.recursion_depth -= \u001b[32m1\u001b[39m\n",
      "\u001b[36mFile \u001b[39m\u001b[32m~/.pyenv/versions/compete-automate-venv/lib/python3.12/site-packages/google/protobuf/json_format.py:692\u001b[39m, in \u001b[36m_Parser._ConvertFieldValuePair\u001b[39m\u001b[34m(self, js, message, path)\u001b[39m\n\u001b[32m    690\u001b[39m \u001b[38;5;28;01mexcept\u001b[39;00m ParseError \u001b[38;5;28;01mas\u001b[39;00m e:\n\u001b[32m    691\u001b[39m   \u001b[38;5;28;01mif\u001b[39;00m field \u001b[38;5;129;01mand\u001b[39;00m field.containing_oneof \u001b[38;5;129;01mis\u001b[39;00m \u001b[38;5;28;01mNone\u001b[39;00m:\n\u001b[32m--> \u001b[39m\u001b[32m692\u001b[39m     \u001b[38;5;28;01mraise\u001b[39;00m ParseError(\n\u001b[32m    693\u001b[39m         \u001b[33m'\u001b[39m\u001b[33mFailed to parse \u001b[39m\u001b[38;5;132;01m{0}\u001b[39;00m\u001b[33m field: \u001b[39m\u001b[38;5;132;01m{1}\u001b[39;00m\u001b[33m.\u001b[39m\u001b[33m'\u001b[39m.format(name, e)\n\u001b[32m    694\u001b[39m     ) \u001b[38;5;28;01mfrom\u001b[39;00m\u001b[38;5;250m \u001b[39m\u001b[34;01me\u001b[39;00m\n\u001b[32m    695\u001b[39m   \u001b[38;5;28;01melse\u001b[39;00m:\n\u001b[32m    696\u001b[39m     \u001b[38;5;28;01mraise\u001b[39;00m ParseError(\u001b[38;5;28mstr\u001b[39m(e)) \u001b[38;5;28;01mfrom\u001b[39;00m\u001b[38;5;250m \u001b[39m\u001b[34;01me\u001b[39;00m\n",
      "\u001b[31mParseError\u001b[39m: Failed to parse google_search field: Message type \"google.cloud.aiplatform.v1beta1.Tool.GoogleSearch\" has no field named \"max_results\" at \"Tool.google_search\".\n Available Fields(except extensions): \"[]\"."
     ]
    }
   ],
   "source": [
    "# Configure the search tool using Vertex AI\n",
    "search_tool = Tool.from_dict({\n",
    "    \"google_search\": {}\n",
    "})\n",
    "\n",
    "# Use Vertex AI's GenerationConfig\n",
    "config = GenerationConfig(\n",
    "    temperature=0.1,\n",
    "    top_p=1.0\n",
    ")\n",
    "\n",
    "request_args = {\n",
    "    \"generation_config\": config,\n",
    "    \"tools\": [search_tool],\n",
    "    \"stream\": False\n",
    "}\n",
    "\n",
    "async def main_research():\n",
    "    if not COMPETITORS:\n",
    "        print(\"No competitors listed. Please add competitors to the COMPETITORS list.\")\n",
    "        return\n",
    "    \n",
    "    print(f\"Starting research for {len(COMPETITORS)} competitors: {COMPETITORS}\")\n",
    "    successful_json_files = await research_competitors_async(\n",
    "        competitors_list=COMPETITORS,\n",
    "        topic_domain=TOPIC_DOMAIN,\n",
    "        research_goal=RESEARCH_GOAL,\n",
    "        output_folder_path=OUTPUT_FOLDER,\n",
    "        request_args=request_args  # Pass the configured request args\n",
    "    )\n",
    "    print(f\"\\nResearch complete. {len(successful_json_files)} JSON files created in {OUTPUT_FOLDER}:\")\n",
    "    for f_path in successful_json_files:\n",
    "        print(f\" - {f_path}\")\n",
    "\n",
    "await main_research()"
   ]
  },
  {
   "cell_type": "markdown",
   "metadata": {},
   "source": [
    "## Step 2: Create or Verify Notion Database\n",
    "\n",
    "This step will create a new database in your Notion workspace under the specified `NOTION_PARENT_PAGE_ID` if `NOTION_DATABASE_ID` is not already provided. The database columns will match the `CSV_SCHEMA`. \n",
    "If `NOTION_DATABASE_ID` is provided, this step will simply confirm its use."
   ]
  },
  {
   "cell_type": "code",
   "execution_count": null,
   "metadata": {},
   "outputs": [],
   "source": []
  },
  {
   "cell_type": "code",
   "execution_count": 5,
   "metadata": {},
   "outputs": [
    {
     "name": "stdout",
     "output_type": "stream",
     "text": [
      "Using existing Notion Database ID: 20c0e4393c5481ea8b72d21c4a351dbe\n",
      "\n",
      "Final Notion Database ID to be used for population: 20c0e4393c5481ea8b72d21c4a351dbe\n"
     ]
    }
   ],
   "source": [
    "# Step 2: Create or verify Notion database\n",
    "new_db_id = await setup_notion_database(\n",
    "    notion_token=NOTION_API_TOKEN,\n",
    "    parent_page_id=NOTION_PARENT_PAGE_ID,\n",
    "    database_name=NOTION_DATABASE_NAME,\n",
    "    database_id=NOTION_DATABASE_ID\n",
    ")\n",
    "\n",
    "print(f\"\\nFinal Notion Database ID to be used for population: {NOTION_DATABASE_ID}\")"
   ]
  },
  {
   "cell_type": "markdown",
   "metadata": {},
   "source": [
    "## Step 3: Populate Notion Database\n",
    "\n",
    "This step will take the JSON files from the `OUTPUT_FOLDER` and populate the Notion database specified by `NOTION_DATABASE_ID`."
   ]
  },
  {
   "cell_type": "code",
   "execution_count": 6,
   "metadata": {},
   "outputs": [
    {
     "name": "stdout",
     "output_type": "stream",
     "text": [
      "Populating Notion database ID: 20c0e4393c5481ea8b72d21c4a351dbe from folder: competitor_research_json\n",
      "Competitor 'Woz' already exists (ID: 20c0e439-3c54-8111-8e9c-ec3057acf5c0). Updating.\n",
      "Competitor 'Rocketable' already exists (ID: 20c0e439-3c54-81fb-af98-da981acc4bd4). Updating.\n",
      "Successfully updated 'Rocketable' in Notion.\n",
      "Successfully updated 'Woz' in Notion.\n",
      "Finished populating Notion database. 2/2 competitors processed successfully.\n",
      "Population process complete. Check your Notion database.\n"
     ]
    }
   ],
   "source": [
    "async def main_populate():\n",
    "    if not NOTION_DATABASE_ID:\n",
    "        print(\"Error: NOTION_DATABASE_ID is not set. Cannot populate database. Please ensure Step 2 was successful or provide a valid ID.\")\n",
    "        return\n",
    "    if not NOTION_API_TOKEN:\n",
    "        print(\"Error: NOTION_API_TOKEN is not set. Cannot populate Notion database.\")\n",
    "        return\n",
    "    \n",
    "    # Check if the output folder has any JSON files from Step 1\n",
    "    json_files_exist = any(f.endswith('.json') for f in os.listdir(OUTPUT_FOLDER))\n",
    "    if not json_files_exist:\n",
    "        print(f\"No JSON files found in {OUTPUT_FOLDER}. Run Step 1 to generate them before populating.\")\n",
    "        return\n",
    "        \n",
    "    print(f\"Populating Notion database ID: {NOTION_DATABASE_ID} from folder: {OUTPUT_FOLDER}\")\n",
    "    await populate_notion_db_from_folder(\n",
    "        output_folder=OUTPUT_FOLDER,\n",
    "        database_id=NOTION_DATABASE_ID,\n",
    "        notion_token=NOTION_API_TOKEN,\n",
    "        title_field_name=\"Competitor Name\" # This must match the title property in your Notion DB and schema\n",
    "    )\n",
    "    print(\"Population process complete. Check your Notion database.\")\n",
    "\n",
    "await main_populate()"
   ]
  },
  {
   "cell_type": "code",
   "execution_count": null,
   "metadata": {},
   "outputs": [],
   "source": []
  }
 ],
 "metadata": {
  "kernelspec": {
   "display_name": "compete-automate-venv",
   "language": "python",
   "name": "python3"
  },
  "language_info": {
   "codemirror_mode": {
    "name": "ipython",
    "version": 3
   },
   "file_extension": ".py",
   "mimetype": "text/x-python",
   "name": "python",
   "nbconvert_exporter": "python",
   "pygments_lexer": "ipython3",
   "version": "3.12.0"
  }
 },
 "nbformat": 4,
 "nbformat_minor": 2
}
