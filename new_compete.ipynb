{
 "cells": [
  {
   "cell_type": "markdown",
   "metadata": {},
   "source": [
    "# Competitor Research & Notion Database Population\n",
    "\n",
    "## Step 0: Setup\n",
    "\n",
    "1.  **Notion Integration Token:** Create a Notion integration and get your internal integration token. See [Notion's Guide](https://developers.notion.com/docs/create-a-notion-integration). Grant the integration access to the parent page where the database will be created.\n",
    "2.  **Parent Page ID:** In Notion, create or choose an existing page where you want the new Competitor Database to be created. Get its ID. You can get the page ID from its URL (the last part of the URL, e.g., for `https://www.notion.so/My-Page-abcdef1234567890abcdef1234567890`, the ID is `abcdef1234567890abcdef1234567890`). Make sure this page is shared with your integration.\n",
    "3.  **Install requirements:** Ensure you have `requirements.txt` installed (`pip install -r requirements.txt`). It should include `google-cloud-aiplatform`, `google-generativeai`, and `notion-client`."
   ]
  },
  {
   "cell_type": "code",
   "execution_count": 1,
   "metadata": {},
   "outputs": [],
   "source": [
    "# General Imports\n",
    "import asyncio\n",
    "import os\n",
    "import json\n",
    "from pandas import *\n",
    "from dotenv import load_dotenv\n",
    "\n",
    "load_dotenv()\n",
    "\n",
    "# Import utility functions (ensure utils.py is in the same directory or accessible in PYTHONPATH)\n",
    "from utils import research_competitors_async, populate_notion_db_from_folder, create_notion_db_from_schema, CSV_SCHEMA\n",
    "from notion_client import Client as NotionSyncClient # For DB creation"
   ]
  },
  {
   "cell_type": "code",
   "execution_count": 4,
   "metadata": {},
   "outputs": [
    {
     "name": "stdout",
     "output_type": "stream",
     "text": [
      "Output folder for JSON: /Users/elenamatay/VSCode projects/compete-automate/competitor_research_json\n",
      "Schema fields to be used: 53 fields including 'CompetitorID' and 'Notes_QualitativeInsights'\n"
     ]
    }
   ],
   "source": [
    "# --- Config parameters ---\n",
    "NOTION_API_TOKEN = os.getenv(\"NOTION_API_TOKEN\")  # @param {type:string} TODO: Fill in your Notion Integration Token (e.g., secret_xxxxxxxxxxx)\n",
    "NOTION_PARENT_PAGE_ID = os.getenv(\"NOTION_PARENT_PAGE_ID\")  # @param {type:string} TODO: Fill in the ID of the Notion page to host the database (e.g., abcdef1234567890abcdef1234567890)\n",
    "NOTION_DATABASE_NAME = \"Compete Analysis DB\"  # @param {type:string} Name for the new Notion Database\n",
    "# Optional: Fill this if DB already exists, otherwise it will be created.\n",
    "# Format: xxxxxxxx-xxxx-xxxx-xxxx-xxxxxxxxxxxx (with or without hyphens)\n",
    "NOTION_DATABASE_ID = None  # @param {type:string}\n",
    "\n",
    "COMPETITORS = read_csv(\"competitors.csv\")[\"Competitor\"].tolist()  # @param {type:raw} List of competitor names to research\n",
    "\n",
    "TOPIC_DOMAIN = \"Cloud platforms and AI/ML solutions for enterprises and developers  # @param {type:string} General domain for the research context provided to the LLM\"\n",
    "RESEARCH_GOAL = \"To identify key offerings, strengths, weaknesses, target markets, and pricing models for each competitor, to inform Seido's strategic positioning.  # @param {type:string} Specific goal of the research for the LLM\"\n",
    "\n",
    "OUTPUT_FOLDER = \"competitor_research_json\"  # @param {type:string} Folder to save the intermediate JSON research files\n",
    "\n",
    "# Ensure output folder exists\n",
    "os.makedirs(OUTPUT_FOLDER, exist_ok=True)\n",
    "\n",
    "print(f\"Output folder for JSON: {os.path.abspath(OUTPUT_FOLDER)}\")\n",
    "print(f\"Schema fields to be used: {len(CSV_SCHEMA)} fields including '{CSV_SCHEMA[0]}' and '{CSV_SCHEMA[-1]}'\")"
   ]
  },
  {
   "cell_type": "markdown",
   "metadata": {},
   "source": [
    "## Step 1: Research Competitors (Async)\n",
    "\n",
    "This step will use Gemini 1.5 Pro to research each competitor based on the `CSV_SCHEMA` defined in `utils.py`. The results for each competitor will be saved as a JSON file in the `OUTPUT_FOLDER`."
   ]
  },
  {
   "cell_type": "code",
   "execution_count": 5,
   "metadata": {},
   "outputs": [],
   "source": [
    "# Let's first do a test run with two single competitors\n",
    "COMPETITORS = [\"Woz\", \"Rocketable\"]  # @param {type:raw} List of competitor names to research"
   ]
  },
  {
   "cell_type": "code",
   "execution_count": 6,
   "metadata": {},
   "outputs": [
    {
     "name": "stdout",
     "output_type": "stream",
     "text": [
      "Starting research for 2 competitors: ['Woz', 'Rocketable']\n",
      "Queueing research for: Woz\n",
      "Queueing research for: Rocketable\n",
      "Attempt 1 to research Woz...\n",
      "Attempt 1 for Woz failed: An unexpected error occurred: When passing a list with SafetySettings objects, every item in a list must be a SafetySetting object.\n",
      "Retrying...\n",
      "Attempt 1 to research Rocketable...\n",
      "Attempt 1 for Rocketable failed: An unexpected error occurred: When passing a list with SafetySettings objects, every item in a list must be a SafetySetting object.\n",
      "Retrying...\n",
      "Attempt 2 to research Woz...\n",
      "Attempt 2 for Woz failed: An unexpected error occurred: When passing a list with SafetySettings objects, every item in a list must be a SafetySetting object.\n",
      "Retrying...\n",
      "Attempt 2 to research Rocketable...\n",
      "Attempt 2 for Rocketable failed: An unexpected error occurred: When passing a list with SafetySettings objects, every item in a list must be a SafetySetting object.\n",
      "Retrying...\n",
      "Attempt 3 to research Woz...\n",
      "Attempt 3 for Woz failed: An unexpected error occurred: When passing a list with SafetySettings objects, every item in a list must be a SafetySetting object.\n",
      "Max retries reached for Woz. Skipping. Fatal error log saved.\n",
      "Attempt 3 to research Rocketable...\n",
      "Attempt 3 for Rocketable failed: An unexpected error occurred: When passing a list with SafetySettings objects, every item in a list must be a SafetySetting object.\n",
      "Max retries reached for Rocketable. Skipping. Fatal error log saved.\n",
      "Finished researching all competitors. 0 successful out of 2.\n",
      "nResearch complete. 0 JSON files created in competitor_research_json:\n"
     ]
    }
   ],
   "source": [
    "async def main_research():\n",
    "    if not COMPETITORS:\n",
    "        print(\"No competitors listed. Please add competitors to the COMPETITORS list.\")\n",
    "        return\n",
    "    \n",
    "    print(f\"Starting research for {len(COMPETITORS)} competitors: {COMPETITORS}\")\n",
    "    successful_json_files = await research_competitors_async(\n",
    "        competitors_list=COMPETITORS,\n",
    "        topic_domain=TOPIC_DOMAIN,\n",
    "        research_goal=RESEARCH_GOAL,\n",
    "        output_folder_path=OUTPUT_FOLDER\n",
    "    )\n",
    "    print(f\"nResearch complete. {len(successful_json_files)} JSON files created in {OUTPUT_FOLDER}:\")\n",
    "    for f_path in successful_json_files:\n",
    "        print(f\" - {f_path}\")\n",
    "\n",
    "# In a Jupyter notebook, top-level await is generally available in recent versions.\n",
    "# If you encounter issues, you might need to use asyncio.run(main_research())\n",
    "# or ensure an event loop is running if in a different async context.\n",
    "await main_research()"
   ]
  },
  {
   "cell_type": "markdown",
   "metadata": {
    "vscode": {
     "languageId": "plaintext"
    }
   },
   "source": [
    "## Step 2: Create or Verify Notion Database\n",
    "\n",
    "This step will create a new database in your Notion workspace under the specified `NOTION_PARENT_PAGE_ID` if `NOTION_DATABASE_ID` is not already provided. The database columns will match the `CSV_SCHEMA`. \n",
    "If `NOTION_DATABASE_ID` is provided, this step will simply confirm its use."
   ]
  },
  {
   "cell_type": "code",
   "execution_count": null,
   "metadata": {},
   "outputs": [],
   "source": [
    "async def setup_notion_database():\n",
    "    global NOTION_DATABASE_ID # Allow modification of the global variable\n",
    "\n",
    "    if NOTION_DATABASE_ID:\n",
    "        print(f\"Using existing Notion Database ID: {NOTION_DATABASE_ID}\")\n",
    "        # You might add a check here to ensure the DB exists and is accessible\n",
    "        return NOTION_DATABASE_ID\n",
    "    \n",
    "    if not NOTION_API_TOKEN:\n",
    "        print(\"Error: NOTION_API_TOKEN is not set. Cannot create Notion database.\")\n",
    "        return None\n",
    "    if not NOTION_PARENT_PAGE_ID:\n",
    "        print(\"Error: NOTION_PARENT_PAGE_ID is not set. Cannot create Notion database.\")\n",
    "        return None\n",
    "\n",
    "    print(f\"Attempting to create Notion Database titled '{NOTION_DATABASE_NAME}' under parent page ID: {NOTION_PARENT_PAGE_ID}\")\n",
    "    \n",
    "    sync_notion_client = NotionSyncClient(auth=NOTION_API_TOKEN)\n",
    "    \n",
    "    # Competitor Name is the designated title property in our CSV_SCHEMA\n",
    "    title_property_name_in_schema = \"Competitor Name\"\n",
    "    \n",
    "    # create_notion_db_from_schema is an async function\n",
    "    new_db_id = await create_notion_db_from_schema(\n",
    "        notion_sync_client=sync_notion_client, # The function expects a sync client for this operation\n",
    "        parent_page_id=NOTION_PARENT_PAGE_ID,\n",
    "        db_title=NOTION_DATABASE_NAME,\n",
    "        title_property_name=title_property_name_in_schema\n",
    "    )\n",
    "    \n",
    "    if new_db_id:\n",
    "        print(f\"Successfully created/verified Notion Database. New ID: {new_db_id}\")\n",
    "        NOTION_DATABASE_ID = new_db_id # Update the global variable for the next step\n",
    "    else:\n",
    "        print(\"Failed to create Notion Database. Please check logs and Notion settings (API Token, Parent Page ID, sharing permissions).\")\n",
    "        print(\"You may need to create the database manually in Notion and then set its ID in the NOTION_DATABASE_ID variable.\")\n",
    "    \n",
    "    return new_db_id\n",
    "\n",
    "await setup_notion_database()\n",
    "\n",
    "print(f\"nFinal Notion Database ID to be used for population: {NOTION_DATABASE_ID}\")"
   ]
  },
  {
   "cell_type": "markdown",
   "metadata": {},
   "source": [
    "## Step 3: Populate Notion Database\n",
    "\n",
    "This step will take the JSON files from the `OUTPUT_FOLDER` and populate the Notion database specified by `NOTION_DATABASE_ID`."
   ]
  },
  {
   "cell_type": "code",
   "execution_count": null,
   "metadata": {},
   "outputs": [],
   "source": [
    "async def main_populate():\n",
    "    if not NOTION_DATABASE_ID:\n",
    "        print(\"Error: NOTION_DATABASE_ID is not set. Cannot populate database. Please ensure Step 2 was successful or provide a valid ID.\")\n",
    "        return\n",
    "    if not NOTION_API_TOKEN:\n",
    "        print(\"Error: NOTION_API_TOKEN is not set. Cannot populate Notion database.\")\n",
    "        return\n",
    "    \n",
    "    # Check if the output folder has any JSON files from Step 1\n",
    "    json_files_exist = any(f.endswith('.json') for f in os.listdir(OUTPUT_FOLDER))\n",
    "    if not json_files_exist:\n",
    "        print(f\"No JSON files found in {OUTPUT_FOLDER}. Run Step 1 to generate them before populating.\")\n",
    "        return\n",
    "        \n",
    "    print(f\"Populating Notion database ID: {NOTION_DATABASE_ID} from folder: {OUTPUT_FOLDER}\")\n",
    "    await populate_notion_db_from_folder(\n",
    "        output_folder=OUTPUT_FOLDER,\n",
    "        database_id=NOTION_DATABASE_ID,\n",
    "        notion_token=NOTION_API_TOKEN,\n",
    "        title_field_name=\"Competitor Name\" # This must match the title property in your Notion DB and schema\n",
    "    )\n",
    "    print(\"Population process complete. Check your Notion database.\")\n",
    "\n",
    "await main_populate()"
   ]
  },
  {
   "cell_type": "markdown",
   "metadata": {},
   "source": [
    "## Next Steps & Considerations\n",
    "\n",
    "- **Error Handling**: The `utils.py` functions include some error handling (e.g., for LLM retries, JSON parsing, Notion API calls). Review logs for any issues.\n",
    "- **Notion Property Types**: The `create_notion_db_from_schema` currently creates most columns as 'Rich Text' and 'WebsiteURL' as URL. You can customize `map_data_to_notion_properties` and `create_notion_db_from_schema` in `utils.py` if you need specific Notion property types (Date, Number, Select, Multi-select, etc.) for different fields. This would require updating the `properties` dictionary in those functions according to Notion API specifications.\n",
    "- **Idempotency**: The `add_json_to_notion_db` function attempts to find existing entries by 'Competitor Name' to update them, making the population step somewhat idempotent. If 'Competitor Name' is not unique or changes, this might lead to duplicates or missed updates. Consider using the `CompetitorID` (if reliably generated and unique) for more robust duplicate checking by modifying the filter in `add_json_to_notion_db`.\n",
    "- **Rate Limits**: For a very large number of competitors, be mindful of Notion API rate limits. The `async` processing helps with I/O bound tasks, but Notion might still throttle if too many requests are made too quickly. The `notion-client` library has some built-in retry mechanisms.\n",
    "- **LLM Prompting**: The prompt in `research_competitor_to_json` is generic. You might want to fine-tune it further for your specific needs or if the LLM struggles with certain fields (e.g., providing more examples, or being more prescriptive about the format of list-based fields).\n",
    "- **Authentication**: Ensure your Google Cloud ADC is set up correctly if running locally and that the Gemini API is enabled in your project."
   ]
  },
  {
   "cell_type": "markdown",
   "metadata": {},
   "source": []
  }
 ],
 "metadata": {
  "kernelspec": {
   "display_name": "compete-automate-venv",
   "language": "python",
   "name": "python3"
  },
  "language_info": {
   "codemirror_mode": {
    "name": "ipython",
    "version": 3
   },
   "file_extension": ".py",
   "mimetype": "text/x-python",
   "name": "python",
   "nbconvert_exporter": "python",
   "pygments_lexer": "ipython3",
   "version": "3.12.0"
  }
 },
 "nbformat": 4,
 "nbformat_minor": 2
}
